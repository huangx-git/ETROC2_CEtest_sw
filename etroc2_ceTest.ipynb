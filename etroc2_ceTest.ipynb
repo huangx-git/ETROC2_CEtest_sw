{
 "cells": [
  {
   "cell_type": "markdown",
   "id": "963dbec8",
   "metadata": {},
   "source": [
    "## Preparation\n",
    "\n",
    "##### https://gitlab.cern.ch/cbeiraod/module_test_sw => ``` git clone https://gitlab.cern.ch/cbeiraod/module_test_sw.git```\n",
    "\n",
    "##### Control hub is part of the IPbus package and can be started with e.g. ``` /opt/cactus/bin/controlhub_start.```\n",
    "\n",
    "##### Check the control hub's status, ``` /opt/cactus/bin/controlhub_status```\n",
    "\n",
    "##### ``` source setup.sh```"
   ]
  },
  {
   "cell_type": "markdown",
   "id": "64acb7b4",
   "metadata": {},
   "source": [
    "## KCU Connection"
   ]
  },
  {
   "cell_type": "code",
   "execution_count": 1,
   "id": "af56a10b",
   "metadata": {},
   "outputs": [
    {
     "name": "stdout",
     "output_type": "stream",
     "text": [
      "IPBus address: chtcp-2.0://localhost:10203?target=192.168.0.10:50001\n",
      "KCU firmware version: 0.0.0\n"
     ]
    }
   ],
   "source": [
    "from tamalero.utils import get_kcu\n",
    "\n",
    "kcu = get_kcu(\n",
    "                \"192.168.0.10\",\n",
    "                control_hub = True,\n",
    "                host = 'localhost',\n",
    "                verbose = False,\n",
    "            )\n",
    "\n",
    "# kcu.status()"
   ]
  },
  {
   "cell_type": "markdown",
   "id": "c0993edb",
   "metadata": {},
   "source": [
    "## LPGBT Instantiation"
   ]
  },
  {
   "cell_type": "code",
   "execution_count": 2,
   "id": "8dae268d",
   "metadata": {},
   "outputs": [
    {
     "name": "stdout",
     "output_type": "stream",
     "text": [
      "############################LPGBT Initialization############################\n",
      "############################configure debug############################\n",
      "<tamalero.LPGBT.LPGBT object at 0x7f08d5e1e8e0> True\n",
      "############################get lpgbt version debug############################\n"
     ]
    },
    {
     "name": "stdout",
     "output_type": "stream",
     "text": [
      " > Running power up within LPGBT.configure()\n"
     ]
    }
   ],
   "source": [
    "from tamalero.LPGBT import LPGBT\n",
    "\n",
    "DAQ_LPGBT = LPGBT(rb=0, trigger=False, flavor='small', kcu=kcu, config='default', ver=0, poke=False, rbver=None)"
   ]
  },
  {
   "cell_type": "markdown",
   "id": "98a45589",
   "metadata": {},
   "source": [
    "## Readout Board Connection"
   ]
  },
  {
   "cell_type": "code",
   "execution_count": 3,
   "id": "36ee3fca",
   "metadata": {},
   "outputs": [
    {
     "name": "stdout",
     "output_type": "stream",
     "text": [
      "############################version check############################\n",
      "############################ReadoutBoard LPGBT Instantiation############################\n",
      "############################LPGBT Initialization############################\n",
      "############################configure debug############################\n",
      "<tamalero.LPGBT.LPGBT object at 0x7f09045b7eb0> True\n",
      "############################get lpgbt version debug############################\n",
      "############################get lpgbt version debug############################\n",
      "0x1d7 readback value is 174\n",
      "lpGBT version found True\n",
      " > lpGBT v2 detected\n",
      "############################ReadoutBoard VTRX Instantiation############################\n",
      "############################configure debug############################\n",
      "<tamalero.LPGBT.LPGBT object at 0x7f09045b7eb0> True\n",
      "############################get lpgbt version debug############################\n",
      "No trigger lpGBT found.\n"
     ]
    },
    {
     "ename": "AttributeError",
     "evalue": "'VTRX' object has no attribute 'ver'",
     "output_type": "error",
     "traceback": [
      "\u001b[0;31m---------------------------------------------------------------------------\u001b[0m",
      "\u001b[0;31mAttributeError\u001b[0m                            Traceback (most recent call last)",
      "Cell \u001b[0;32mIn[3], line 2\u001b[0m\n\u001b[1;32m      1\u001b[0m \u001b[38;5;28;01mfrom\u001b[39;00m\u001b[38;5;250m \u001b[39m\u001b[38;5;21;01mtamalero\u001b[39;00m\u001b[38;5;21;01m.\u001b[39;00m\u001b[38;5;21;01mReadoutBoard\u001b[39;00m\u001b[38;5;250m \u001b[39m\u001b[38;5;28;01mimport\u001b[39;00m ReadoutBoard\n\u001b[0;32m----> 2\u001b[0m rb \u001b[38;5;241m=\u001b[39m \u001b[43mReadoutBoard\u001b[49m\u001b[43m(\u001b[49m\n\u001b[1;32m      3\u001b[0m \u001b[43m                    \u001b[49m\u001b[38;5;241;43m0\u001b[39;49m\u001b[43m,\u001b[49m\n\u001b[1;32m      4\u001b[0m \u001b[43m                    \u001b[49m\u001b[43mkcu\u001b[49m\u001b[43m \u001b[49m\u001b[38;5;241;43m=\u001b[39;49m\u001b[43m \u001b[49m\u001b[43mkcu\u001b[49m\u001b[43m,\u001b[49m\n\u001b[1;32m      5\u001b[0m \u001b[43m                    \u001b[49m\u001b[43mconfig\u001b[49m\u001b[43m \u001b[49m\u001b[38;5;241;43m=\u001b[39;49m\u001b[43m \u001b[49m\u001b[38;5;124;43m\"\u001b[39;49m\u001b[38;5;124;43mmodulev1\u001b[39;49m\u001b[38;5;124;43m\"\u001b[39;49m\u001b[43m,\u001b[49m\n\u001b[1;32m      6\u001b[0m \u001b[43m                \u001b[49m\u001b[43m)\u001b[49m\n",
      "File \u001b[0;32m~/Etroc2_CE/module_test_sw/tamalero/ReadoutBoard.py:118\u001b[0m, in \u001b[0;36mReadoutBoard.__init__\u001b[0;34m(self, rb, trigger, flavor, kcu, config, alignment, data_mode, etroc, verbose, allow_bad_links, poke)\u001b[0m\n\u001b[1;32m    114\u001b[0m     \u001b[38;5;28mself\u001b[39m\u001b[38;5;241m.\u001b[39mconfigured \u001b[38;5;241m=\u001b[39m \u001b[38;5;241m1\u001b[39m\n\u001b[1;32m    116\u001b[0m \u001b[38;5;28;01mif\u001b[39;00m \u001b[38;5;28mself\u001b[39m\u001b[38;5;241m.\u001b[39mver \u001b[38;5;241m==\u001b[39m \u001b[38;5;241m2\u001b[39m:\n\u001b[1;32m    117\u001b[0m     \u001b[38;5;66;03m# this method does not work for RB v1 / lpGBT v0\u001b[39;00m\n\u001b[0;32m--> 118\u001b[0m     \u001b[38;5;28;43mself\u001b[39;49m\u001b[38;5;241;43m.\u001b[39;49m\u001b[43mreset_problematic_links\u001b[49m\u001b[43m(\u001b[49m\u001b[43mmax_retries\u001b[49m\u001b[38;5;241;43m=\u001b[39;49m\u001b[38;5;241;43m50\u001b[39;49m\u001b[43m,\u001b[49m\u001b[43m \u001b[49m\u001b[43mallow_bad_links\u001b[49m\u001b[38;5;241;43m=\u001b[39;49m\u001b[43mallow_bad_links\u001b[49m\u001b[43m)\u001b[49m\n\u001b[1;32m    120\u001b[0m \u001b[38;5;28mprint\u001b[39m(\u001b[38;5;124m'\u001b[39m\u001b[38;5;124m############################ReadoutBoard self.is_configured Debug############################\u001b[39m\u001b[38;5;124m'\u001b[39m)\n\u001b[1;32m    121\u001b[0m \u001b[38;5;28mself\u001b[39m\u001b[38;5;241m.\u001b[39mis_configured()\n",
      "File \u001b[0;32m~/Etroc2_CE/module_test_sw/tamalero/ReadoutBoard.py:465\u001b[0m, in \u001b[0;36mReadoutBoard.reset_problematic_links\u001b[0;34m(self, max_retries, allow_bad_links)\u001b[0m\n\u001b[1;32m    463\u001b[0m         \u001b[38;5;28;01mpass\u001b[39;00m\n\u001b[1;32m    464\u001b[0m     \u001b[38;5;28;01melse\u001b[39;00m:\n\u001b[0;32m--> 465\u001b[0m         \u001b[38;5;28;43mself\u001b[39;49m\u001b[38;5;241;43m.\u001b[39;49m\u001b[43mreset_link\u001b[49m\u001b[43m(\u001b[49m\u001b[43mtrigger\u001b[49m\u001b[43m \u001b[49m\u001b[38;5;241;43m=\u001b[39;49m\u001b[43m \u001b[49m\u001b[43m(\u001b[49m\u001b[43mlink\u001b[49m\u001b[38;5;241;43m==\u001b[39;49m\u001b[38;5;124;43m'\u001b[39;49m\u001b[38;5;124;43mTrigger\u001b[39;49m\u001b[38;5;124;43m'\u001b[39;49m\u001b[43m)\u001b[49m\u001b[43m)\u001b[49m\n\u001b[1;32m    466\u001b[0m \u001b[38;5;28;01mif\u001b[39;00m i\u001b[38;5;241m+\u001b[39m\u001b[38;5;241m2\u001b[39m \u001b[38;5;241m>\u001b[39m max_retries:\n\u001b[1;32m    467\u001b[0m     \u001b[38;5;28;01mif\u001b[39;00m allow_bad_links:\n",
      "File \u001b[0;32m~/Etroc2_CE/module_test_sw/tamalero/ReadoutBoard.py:433\u001b[0m, in \u001b[0;36mReadoutBoard.reset_link\u001b[0;34m(self, trigger)\u001b[0m\n\u001b[1;32m    431\u001b[0m     \u001b[38;5;28mself\u001b[39m\u001b[38;5;241m.\u001b[39mTRIG_LPGBT\u001b[38;5;241m.\u001b[39mpower_up_init()\n\u001b[1;32m    432\u001b[0m \u001b[38;5;28;01melse\u001b[39;00m:\n\u001b[0;32m--> 433\u001b[0m     \u001b[38;5;28;01mif\u001b[39;00m \u001b[38;5;28;43mself\u001b[39;49m\u001b[38;5;241;43m.\u001b[39;49m\u001b[43mVTRX\u001b[49m\u001b[38;5;241;43m.\u001b[39;49m\u001b[43mver\u001b[49m \u001b[38;5;241m==\u001b[39m \u001b[38;5;124m'\u001b[39m\u001b[38;5;124mproduction\u001b[39m\u001b[38;5;124m'\u001b[39m:\n\u001b[1;32m    434\u001b[0m         \u001b[38;5;28mself\u001b[39m\u001b[38;5;241m.\u001b[39mVTRX\u001b[38;5;241m.\u001b[39mreset()\n\u001b[1;32m    435\u001b[0m     \u001b[38;5;28;01melif\u001b[39;00m \u001b[38;5;28mself\u001b[39m\u001b[38;5;241m.\u001b[39mVTRX\u001b[38;5;241m.\u001b[39mver \u001b[38;5;241m==\u001b[39m \u001b[38;5;124m'\u001b[39m\u001b[38;5;124mprototype\u001b[39m\u001b[38;5;124m'\u001b[39m:\n\u001b[1;32m    436\u001b[0m         \u001b[38;5;66;03m#self.VTRX.reset(toggle_channels=[0])\u001b[39;00m\n",
      "\u001b[0;31mAttributeError\u001b[0m: 'VTRX' object has no attribute 'ver'"
     ]
    }
   ],
   "source": [
    "from tamalero.ReadoutBoard import ReadoutBoard\n",
    "rb = ReadoutBoard(\n",
    "                    0,\n",
    "                    kcu = kcu,\n",
    "                    config = \"modulev1\",\n",
    "                )"
   ]
  },
  {
   "cell_type": "markdown",
   "id": "a1d97344",
   "metadata": {},
   "source": [
    "## Connecting an ETROC on module v0 or v1"
   ]
  },
  {
   "cell_type": "code",
   "execution_count": 4,
   "id": "298bbe57",
   "metadata": {},
   "outputs": [
    {
     "ename": "NameError",
     "evalue": "name 'rb' is not defined",
     "output_type": "error",
     "traceback": [
      "\u001b[0;31m---------------------------------------------------------------------------\u001b[0m",
      "\u001b[0;31mNameError\u001b[0m                                 Traceback (most recent call last)",
      "Cell \u001b[0;32mIn[4], line 3\u001b[0m\n\u001b[1;32m      1\u001b[0m \u001b[38;5;28;01mfrom\u001b[39;00m\u001b[38;5;250m \u001b[39m\u001b[38;5;21;01mtamalero\u001b[39;00m\u001b[38;5;21;01m.\u001b[39;00m\u001b[38;5;21;01mModule\u001b[39;00m\u001b[38;5;250m \u001b[39m\u001b[38;5;28;01mimport\u001b[39;00m Module\n\u001b[1;32m      2\u001b[0m module \u001b[38;5;241m=\u001b[39m Module(\n\u001b[0;32m----> 3\u001b[0m                 \u001b[43mrb\u001b[49m,\n\u001b[1;32m      4\u001b[0m                 i \u001b[38;5;241m=\u001b[39m \u001b[38;5;241m1\u001b[39m,\n\u001b[1;32m      5\u001b[0m                 moduleid \u001b[38;5;241m=\u001b[39m \u001b[38;5;241m100\u001b[39m,\n\u001b[1;32m      6\u001b[0m )\n",
      "\u001b[0;31mNameError\u001b[0m: name 'rb' is not defined"
     ]
    }
   ],
   "source": [
    "from tamalero.Module import Module\n",
    "module = Module(\n",
    "                rb,\n",
    "                i = 1,\n",
    "                moduleid = 100,\n",
    ")"
   ]
  },
  {
   "cell_type": "code",
   "execution_count": null,
   "id": "58d332b4",
   "metadata": {},
   "outputs": [],
   "source": [
    "module.show_status()"
   ]
  },
  {
   "cell_type": "code",
   "execution_count": null,
   "id": "1d8652a8",
   "metadata": {},
   "outputs": [],
   "source": [
    "module.ETROCs\n",
    "my_etroc = module.ETROCs[1]\n",
    "print(my_etroc)"
   ]
  },
  {
   "cell_type": "code",
   "execution_count": null,
   "id": "1fa915ab",
   "metadata": {},
   "outputs": [],
   "source": [
    "DAQ_LPGBT.read_base_config()"
   ]
  },
  {
   "cell_type": "code",
   "execution_count": 1,
   "id": "9653972e",
   "metadata": {},
   "outputs": [
    {
     "name": "stdout",
     "output_type": "stream",
     "text": [
      "Expanded Path: /home/roy/Etroc2_CE/address_table/lpgbt_v0.xml\n",
      "Absolute Path: /home/roy/Etroc2_CE/address_table/lpgbt_v0.xml\n"
     ]
    }
   ],
   "source": [
    "import os\n",
    "\n",
    "# Define a relative path with an environment variable\n",
    "file_path = os.path.abspath('../address_table/lpgbt_v0.xml')\n",
    "\n",
    "# First, expand the environment variable\n",
    "expanded_path = os.path.expandvars(file_path)\n",
    "\n",
    "# Then, convert the expanded path to an absolute path\n",
    "absolute_path = os.path.abspath(expanded_path)\n",
    "\n",
    "print(f\"Expanded Path: {expanded_path}\")\n",
    "print(f\"Absolute Path: {absolute_path}\")"
   ]
  }
 ],
 "metadata": {
  "kernelspec": {
   "display_name": "Python 3",
   "language": "python",
   "name": "python3"
  },
  "language_info": {
   "codemirror_mode": {
    "name": "ipython",
    "version": 3
   },
   "file_extension": ".py",
   "mimetype": "text/x-python",
   "name": "python",
   "nbconvert_exporter": "python",
   "pygments_lexer": "ipython3",
   "version": "3.8.10"
  }
 },
 "nbformat": 4,
 "nbformat_minor": 5
}
