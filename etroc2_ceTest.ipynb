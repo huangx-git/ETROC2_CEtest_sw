{
 "cells": [
  {
   "cell_type": "markdown",
   "id": "963dbec8",
   "metadata": {},
   "source": [
    "## Preparation\n",
    "\n",
    "##### https://gitlab.cern.ch/cbeiraod/module_test_sw => ``` git clone https://gitlab.cern.ch/cbeiraod/module_test_sw.git```\n",
    "\n",
    "##### Control hub is part of the IPbus package and can be started with e.g. ``` /opt/cactus/bin/controlhub_start.```\n",
    "\n",
    "##### Check the control hub's status, ``` /opt/cactus/bin/controlhub_status```\n",
    "\n",
    "##### ``` source setup.sh```"
   ]
  },
  {
   "cell_type": "markdown",
   "id": "64acb7b4",
   "metadata": {},
   "source": [
    "## KCU Connection"
   ]
  },
  {
   "cell_type": "code",
   "execution_count": 1,
   "id": "af56a10b",
   "metadata": {},
   "outputs": [
    {
     "name": "stdout",
     "output_type": "stream",
     "text": [
      "IPBus address: chtcp-2.0://localhost:10203?target=192.168.0.10:50001\n",
      "Successfully got list of address table files from gitlab.\n",
      "Downloading latest firmware version address table to address_table/d140783\n",
      "Making directory: address_table/d140783\n",
      "KCU firmware version: 0.0.0\n"
     ]
    }
   ],
   "source": [
    "from tamalero.utils import get_kcu\n",
    "\n",
    "kcu = get_kcu(\n",
    "                \"192.168.0.10\",\n",
    "                control_hub = True,\n",
    "                host = 'localhost',\n",
    "                verbose = False,\n",
    "            )\n",
    "\n",
    "# kcu.status()"
   ]
  },
  {
   "cell_type": "markdown",
   "id": "c0993edb",
   "metadata": {},
   "source": [
    "## LPGBT Instantiation"
   ]
  },
  {
   "cell_type": "code",
   "execution_count": null,
   "id": "8dae268d",
   "metadata": {},
   "outputs": [
    {
     "name": "stdout",
     "output_type": "stream",
     "text": [
      "<tamalero.LPGBT.LPGBT object at 0x7f4cd3b2a1f0> True\n",
      " > Running power up within LPGBT.configure()\n",
      "Register                                                                        value     default   \n",
      "\u001b[91mLPGBT.RWF.CLOCKGENERATOR.CLKGCALIBRATIONENDOFCOUNT                              0         15        \u001b[0m\n",
      "\u001b[91mLPGBT.RWF.CLOCKGENERATOR.CLKGBIASGENCONFIG                                      0         8         \u001b[0m\n",
      "\u001b[92mLPGBT.RWF.CLOCKGENERATOR.CDRCONTROLOVERRIDEENABLE                               0         0         \u001b[0m\n",
      "\u001b[92mLPGBT.RWF.CLOCKGENERATOR.CLKGDISABLEFRAMEALIGNERLOCKCONTROL                     0         0         \u001b[0m\n",
      "\u001b[91mLPGBT.RWF.CLOCKGENERATOR.CLKGCDRRES                                             0         1         \u001b[0m\n",
      "\u001b[91mLPGBT.RWF.CLOCKGENERATOR.CLKGVCODAC                                             0         4         \u001b[0m\n",
      "\u001b[92mLPGBT.RWF.CLOCKGENERATOR.CLKGVCORAILMODE                                        0         0         \u001b[0m\n",
      "\u001b[91mLPGBT.RWF.CLOCKGENERATOR.CLKGPLLRESWHENLOCKED                                   0         4         \u001b[0m\n",
      "\u001b[91mLPGBT.RWF.CLOCKGENERATOR.CLKGPLLRES                                             0         4         \u001b[0m\n",
      "\u001b[91mLPGBT.RWF.CLOCKGENERATOR.CLKGPLLINTCURWHENLOCKED                                0         5         \u001b[0m\n",
      "\u001b[91mLPGBT.RWF.CLOCKGENERATOR.CLKGPLLINTCUR                                          0         5         \u001b[0m\n",
      "\u001b[91mLPGBT.RWF.CLOCKGENERATOR.CLKGPLLPROPCURWHENLOCKED                               0         5         \u001b[0m\n",
      "\u001b[91mLPGBT.RWF.CLOCKGENERATOR.CLKGPLLPROPCUR                                         0         5         \u001b[0m\n",
      "\u001b[91mLPGBT.RWF.CLOCKGENERATOR.CLKGCDRPROPCURWHENLOCKED                               0         5         \u001b[0m\n",
      "\u001b[91mLPGBT.RWF.CLOCKGENERATOR.CLKGCDRPROPCUR                                         0         5         \u001b[0m\n",
      "\u001b[91mLPGBT.RWF.CLOCKGENERATOR.CLKGCDRINTCURWHENLOCKED                                0         5         \u001b[0m\n",
      "\u001b[91mLPGBT.RWF.CLOCKGENERATOR.CLKGCDRINTCUR                                          0         5         \u001b[0m\n",
      "\u001b[91mLPGBT.RWF.CLOCKGENERATOR.CLKGCDRFEEDFORWARDPROPCURWHENLOCKED                    0         5         \u001b[0m\n",
      "\u001b[91mLPGBT.RWF.CLOCKGENERATOR.CLKGCDRFEEDFORWARDPROPCUR                              0         5         \u001b[0m\n",
      "\u001b[92mLPGBT.RWF.CLOCKGENERATOR.CLKGFLLINTCURWHENLOCKED                                0         0         \u001b[0m\n",
      "\u001b[91mLPGBT.RWF.CLOCKGENERATOR.CLKGFLLINTCUR                                          0         15        \u001b[0m\n",
      "\u001b[92mLPGBT.RWF.CLOCKGENERATOR.CDRCOCONNECTCDR                                        0         0         \u001b[0m\n",
      "\u001b[92mLPGBT.RWF.CLOCKGENERATOR.CLKGCAPBANKOVERRIDEENABLE                              0         0         \u001b[0m\n",
      "\u001b[91mLPGBT.RWF.CLOCKGENERATOR.CLKGFEEDFORWARDCAPWHENLOCKED                           0         6         \u001b[0m\n",
      "\u001b[91mLPGBT.RWF.CLOCKGENERATOR.CLKGFEEDFORWARDCAP                                     0         6         \u001b[0m\n",
      "\u001b[92mLPGBT.RWF.CLOCKGENERATOR.CLKGCOOVERRIDEVC                                       0         0         \u001b[0m\n",
      "\u001b[92mLPGBT.RWF.CLOCKGENERATOR.CDRCOREFCLKSEL                                         0         0         \u001b[0m\n",
      "\u001b[92mLPGBT.RWF.CLOCKGENERATOR.CDRCOENABLEPLL                                         0         0         \u001b[0m\n",
      "\u001b[92mLPGBT.RWF.CLOCKGENERATOR.CDRCOENABLEFD                                          0         0         \u001b[0m\n",
      "\u001b[92mLPGBT.RWF.CLOCKGENERATOR.CDRCOENABLECDR                                         0         0         \u001b[0m\n",
      "\u001b[92mLPGBT.RWF.CLOCKGENERATOR.CDRCODISDATACOUNTERREF                                 0         0         \u001b[0m\n",
      "\u001b[92mLPGBT.RWF.CLOCKGENERATOR.CDRCODISDESVBIASGEN                                    0         0         \u001b[0m\n",
      "\u001b[92mLPGBT.RWF.CLOCKGENERATOR.CDRCOCONNECTPLL                                        0         0         \u001b[0m\n",
      "\u001b[92mLPGBT.RWF.CLOCKGENERATOR.CLKGCAPBANKSELECT_7TO0                                 0         0         \u001b[0m\n",
      "\u001b[91mLPGBT.RWF.CLOCKGENERATOR.CLKGWAITCDRTIME                                        0         10        \u001b[0m\n",
      "\u001b[92mLPGBT.RWF.CLOCKGENERATOR.CLKGWAITPLLTIME                                        0         0         \u001b[0m\n",
      "\u001b[91mLPGBT.RWF.CLOCKGENERATOR.CLKGLOCKFILTERLOCKTHRCOUNTER                           0         9         \u001b[0m\n",
      "\u001b[91mLPGBT.RWF.CLOCKGENERATOR.CLKGLOCKFILTERENABLE                                   0         1         \u001b[0m\n",
      "\u001b[92mLPGBT.RWF.CLOCKGENERATOR.CLKGCAPBANKSELECT_8                                    0         0         \u001b[0m\n",
      "\u001b[91mLPGBT.RWF.CLOCKGENERATOR.CLKGLOCKFILTERRELOCKTHRCOUNTER                         0         9         \u001b[0m\n",
      "\u001b[91mLPGBT.RWF.CLOCKGENERATOR.CLKGLOCKFILTERUNLOCKTHRCOUNTER                         0         9         \u001b[0m\n",
      "\u001b[91mLPGBT.RWF.CLOCKGENERATOR.PSDLLCONFIRMCOUNT                                      0         2         \u001b[0m\n",
      "\u001b[91mLPGBT.RWF.CLOCKGENERATOR.PSDLLCURRENTSEL                                        0         2         \u001b[0m\n",
      "\u001b[91mLPGBT.RWF.LINE_DRIVER.LDMODULATIONCURRENT                                       0         64        \u001b[0m\n",
      "\u001b[92mLPGBT.RWF.LINE_DRIVER.LDEMPHASISENABLE                                          0         0         \u001b[0m\n",
      "\u001b[91mLPGBT.RWF.LINE_DRIVER.REFCLKACBIAS                                              0         1         \u001b[0m\n",
      "\u001b[91mLPGBT.RWF.LINE_DRIVER.REFCLKTERM                                                0         1         \u001b[0m\n",
      "\u001b[92mLPGBT.RWF.POWER_GOOD.PGLEVEL                                                    0         0         \u001b[0m\n",
      "\u001b[91mLPGBT.RWF.POWER_GOOD.PGENABLE                                                   0         1         \u001b[0m\n",
      "\u001b[91mLPGBT.RWF.POWER_GOOD.PGDELAY                                                    0         12        \u001b[0m\n",
      "\u001b[92mLPGBT.RWF.CALIBRATION.EPRXLOCKTHRESHOLD                                         0         0         \u001b[0m\n",
      "\u001b[92mLPGBT.RWF.CALIBRATION.EPRXRELOCKTHRESHOLD                                       0         0         \u001b[0m\n",
      "\u001b[92mLPGBT.RWF.CLOCKGENERATOR.EPRXUNLOCKTHRESHOLD                                    0         0         \u001b[0m\n",
      "\u001b[92mLPGBT.RW.DEBUG.DLDPBYPASDEINTERLEVEAR                                           0         0         \u001b[0m\n",
      "\u001b[92mLPGBT.RW.DEBUG.DLDPBYPASFECDECODER                                              0         0         \u001b[0m\n",
      "\u001b[92mLPGBT.RW.DEBUG.DLDPBYPASSDESCRAMBLER                                            0         0         \u001b[0m\n",
      "\u001b[92mLPGBT.RW.DEBUG.DLDPFECERRCNTENA                                                 0         0         \u001b[0m\n",
      "\u001b[92mLPGBT.RW.DEBUG.ULDPBYPASSINTERLEAVER                                            0         0         \u001b[0m\n",
      "\u001b[92mLPGBT.RW.DEBUG.ULDPBYPASSSCRAMBLER                                              0         0         \u001b[0m\n",
      "\u001b[92mLPGBT.RW.DEBUG.ULDPBYPASSFECCODER                                               0         0         \u001b[0m\n",
      "\u001b[91mLPGBT.RWF.POWERUP.DLLCONFIGDONE                                                 0         1         \u001b[0m\n",
      "\u001b[91mLPGBT.RWF.POWERUP.PLLCONFIGDONE                                                 0         1         \u001b[0m\n"
     ]
    }
   ],
   "source": [
    "from tamalero.LPGBT import LPGBT\n",
    "\n",
    "DAQ_LPGBT = LPGBT(rb=0, trigger=False, flavor='small', kcu=kcu, config='default', ver=0, poke=False, rbver=None)\n",
    "# DAQ_LPGBT.read_base_config()"
   ]
  },
  {
   "cell_type": "markdown",
   "id": "98a45589",
   "metadata": {},
   "source": [
    "## Readout Board Connection"
   ]
  },
  {
   "cell_type": "code",
   "execution_count": 11,
   "id": "36ee3fca",
   "metadata": {},
   "outputs": [
    {
     "name": "stdout",
     "output_type": "stream",
     "text": [
      "<tamalero.LPGBT.LPGBT object at 0x7f4cd3cbb250> True\n",
      "0x1d7 readback value is 174\n",
      "lpGBT version found True\n",
      " > lpGBT v2 detected\n",
      "<tamalero.LPGBT.LPGBT object at 0x7f4cd3cbb250> True\n",
      "No trigger lpGBT found.\n",
      "2\n"
     ]
    }
   ],
   "source": [
    "from tamalero.ReadoutBoard import ReadoutBoard\n",
    "rb = ReadoutBoard(\n",
    "                    0,\n",
    "                    kcu = kcu,\n",
    "                    config = \"modulev1\",\n",
    "                )"
   ]
  },
  {
   "cell_type": "markdown",
   "id": "a1d97344",
   "metadata": {},
   "source": [
    "## Connecting an ETROC on module v0 or v1"
   ]
  },
  {
   "cell_type": "code",
   "execution_count": 9,
   "id": "298bbe57",
   "metadata": {},
   "outputs": [
    {
     "name": "stdout",
     "output_type": "stream",
     "text": [
      "elinks not locked, resetting PLL and FC modules\n"
     ]
    }
   ],
   "source": [
    "from tamalero.Module import Module\n",
    "module = Module(\n",
    "                rb,\n",
    "                i = 1,\n",
    "                moduleid = 100,\n",
    ")"
   ]
  },
  {
   "cell_type": "code",
   "execution_count": 10,
   "id": "58d332b4",
   "metadata": {},
   "outputs": [
    {
     "name": "stdout",
     "output_type": "stream",
     "text": [
      "┏━┳━━━━━━━━━━━━━━━━━━━━━━━━━━━┳━┓\n",
      "┃○┃                           ┃○┃\n",
      "┃ ┃ Module:   1    ID: 100    ┃ ┃\n",
      "┃ ┃ \u001b[91mPower board is: off      \u001b[0m ┃ ┃\n",
      "┃ ┃ \u001b[91mNot Connected:           \u001b[0m ┃ ┃\n",
      "┃ ┃ \u001b[91m i2c master: lpgbt       \u001b[0m ┃ ┃\n",
      "┃ ┃ \u001b[91m channel:    1           \u001b[0m ┃ ┃\n",
      "┃ ┃ lpGBT 1 links:            ┃ ┃\n",
      "┃ ┃  \u001b[91m2\u001b[0m \u001b[91m20\u001b[0m \u001b[91m0\u001b[0m \u001b[91m22\u001b[0m                ┃ ┃\n",
      "┃ ┃ lpGBT 2 links:            ┃ ┃\n",
      "┃ ┃  \u001b[91m0\u001b[0m \u001b[91m22\u001b[0m \u001b[91m2\u001b[0m \u001b[91m20\u001b[0m                ┃ ┃\n",
      "┃○┃                           ┃○┃\n",
      "┗━┻━━━━━━━━━━━━━━━━━━━━━━━━━━━┻━┛\n"
     ]
    }
   ],
   "source": [
    "module.show_status()"
   ]
  },
  {
   "cell_type": "code",
   "execution_count": 8,
   "id": "1d8652a8",
   "metadata": {},
   "outputs": [
    {
     "name": "stdout",
     "output_type": "stream",
     "text": [
      "<tamalero.ETROC.ETROC object at 0x7f4d0826eb20>\n"
     ]
    }
   ],
   "source": [
    "module.ETROCs\n",
    "my_etroc = module.ETROCs[1]\n",
    "print(my_etroc)"
   ]
  }
 ],
 "metadata": {
  "kernelspec": {
   "display_name": "Python 3",
   "language": "python",
   "name": "python3"
  },
  "language_info": {
   "codemirror_mode": {
    "name": "ipython",
    "version": 3
   },
   "file_extension": ".py",
   "mimetype": "text/x-python",
   "name": "python",
   "nbconvert_exporter": "python",
   "pygments_lexer": "ipython3",
   "version": "3.8.10"
  }
 },
 "nbformat": 4,
 "nbformat_minor": 5
}
